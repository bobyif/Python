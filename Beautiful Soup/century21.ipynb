{
 "cells": [
  {
   "cell_type": "code",
   "execution_count": 4,
   "id": "ordered-bibliography",
   "metadata": {},
   "outputs": [
    {
     "data": {
      "text/plain": [
       "'$725,000'"
      ]
     },
     "execution_count": 4,
     "metadata": {},
     "output_type": "execute_result"
    }
   ],
   "source": [
    "import requests\n",
    "from bs4 import BeautifulSoup\n",
    "\n",
    "r = requests.get(\"http://www.pyclass.com/real-estate/rock-springs-wy/LCWYROCKSPRINGS/\", headers={'User-agent': 'Mozilla/5.0 (X11; Ubuntu; Linux x86_64; rv:61.0) Gecko/20100101 Firefox/61.0'})\n",
    "c = r.content\n",
    "\n",
    "soup = BeautifulSoup(c, \"html.parser\")\n",
    "\n",
    "all=soup.find_all(\"div\",{\"class\" : \"propertyRow\"})\n",
    "\n",
    "all[0].find(\"h4\",{\"class\" : \"propPrice\"}).text.replace(\"\\n\", \"\").replace(\" \", \"\")"
   ]
  },
  {
   "cell_type": "code",
   "execution_count": 14,
   "id": "adolescent-country",
   "metadata": {},
   "outputs": [
    {
     "name": "stdout",
     "output_type": "stream",
     "text": [
      "            $725,000      \n",
      "0 Gateway\n",
      "Rock Springs, WY 82901\n",
      "None\n",
      "None\n",
      "None\n",
      "            $452,900      \n",
      "1003 Winchester Blvd.\n",
      "Rock Springs, WY 82901\n",
      "4 Beds\n",
      "None\n",
      "4 Full Baths\n",
      "0.21 Acres\n",
      "            $396,900      \n",
      "600 Talladega\n",
      "Rock Springs, WY 82901\n",
      "5 Beds\n",
      "3,154 Sq. Ft\n",
      "3 Full Baths\n",
      "            $389,900      \n",
      "3239 Spearhead Way\n",
      "Rock Springs, WY 82901\n",
      "4 Beds\n",
      "3,076 Sq. Ft\n",
      "3 Full Baths\n",
      "Under 1/2 Acre, \n",
      "            $254,000      \n",
      "522 Emerald Street\n",
      "Rock Springs, WY 82901\n",
      "3 Beds\n",
      "1,172 Sq. Ft\n",
      "3 Full Baths\n",
      "Under 1/2 Acre, \n",
      "            $252,900      \n",
      "1302 Veteran's Drive\n",
      "Rock Springs, WY 82901\n",
      "4 Beds\n",
      "1,932 Sq. Ft\n",
      "2 Full Baths\n",
      "0.27 Acres\n",
      "            $210,000      \n",
      "1021 Cypress Cir\n",
      "Rock Springs, WY 82901\n",
      "4 Beds\n",
      "1,676 Sq. Ft\n",
      "3 Full Baths\n",
      "Under 1/2 Acre, \n",
      "            $209,000      \n",
      "913 Madison Dr\n",
      "Rock Springs, WY 82901\n",
      "3 Beds\n",
      "1,344 Sq. Ft\n",
      "2 Full Baths\n",
      "Under 1/2 Acre, \n",
      "            $199,900      \n",
      "1344 Teton Street\n",
      "Rock Springs, WY 82901\n",
      "3 Beds\n",
      "1,920 Sq. Ft\n",
      "2 Full Baths\n",
      "Under 1/2 Acre, \n",
      "            $196,900      \n",
      "4 Minnies Lane\n",
      "Rock Springs, WY 82901\n",
      "3 Beds\n",
      "1,664 Sq. Ft\n",
      "2 Full Baths\n",
      "2.02 Acres\n"
     ]
    }
   ],
   "source": [
    "for item in all:\n",
    "    print(item.find(\"h4\",{\"class\": \"propPrice\"}).text.replace(\"\\n\", \"\").replace(\" \", \" \"))\n",
    "    print(item.find_all(\"span\",{\"class\",\"propAddressCollapse\"})[0].text)\n",
    "    print(item.find_all(\"span\",{\"class\",\"propAddressCollapse\"})[1].text)\n",
    "    try:\n",
    "        print(item.find(\"span\",{\"class\",\"infoBed\"}).text)\n",
    "    except:\n",
    "        print(\"None\")\n",
    "    try:\n",
    "        print(item.find(\"span\",{\"class\",\"infoSqFt\"}).text)\n",
    "    except:\n",
    "        print(\"None\")\n",
    "    try:\n",
    "        print(item.find(\"span\",{\"class\",\"infoValueFullBath\"}).text)\n",
    "    except:\n",
    "        print(\"None\")\n",
    "    for column_group in item.find_all(\"div\",{\"class\":\"columnGroup\"}):\n",
    "        #\n",
    "        for feature_group, feature_name in zip(column_group.find_all(\"span\",{\"class\": \"featureGroup\"}),column_group.find_all(\"span\",{\"class\": \"featureName\"})):\n",
    "            if \"Lot Size\" in feature_group.text:\n",
    "                print(feature_name.text)"
   ]
  },
  {
   "cell_type": "code",
   "execution_count": null,
   "id": "liable-combine",
   "metadata": {},
   "outputs": [],
   "source": []
  },
  {
   "cell_type": "code",
   "execution_count": null,
   "id": "micro-stage",
   "metadata": {},
   "outputs": [],
   "source": []
  }
 ],
 "metadata": {
  "kernelspec": {
   "display_name": "Python 3",
   "language": "python",
   "name": "python3"
  },
  "language_info": {
   "codemirror_mode": {
    "name": "ipython",
    "version": 3
   },
   "file_extension": ".py",
   "mimetype": "text/x-python",
   "name": "python",
   "nbconvert_exporter": "python",
   "pygments_lexer": "ipython3",
   "version": "3.7.8"
  }
 },
 "nbformat": 4,
 "nbformat_minor": 5
}
