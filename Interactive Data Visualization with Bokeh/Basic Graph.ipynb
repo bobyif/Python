{
 "cells": [
  {
   "cell_type": "code",
   "execution_count": null,
   "id": "flush-relations",
   "metadata": {},
   "outputs": [],
   "source": [
    "from bokeh.plotting import figure\n",
    "from bokeh.io import output_file, show\n",
    "\n",
    "x = [1,2,3,4,5]\n",
    "y = [6,7,8,9,10]\n",
    "\n",
    "\n",
    "output_file(\"Line.html\")\n",
    "\n",
    "f = figure()\n",
    "\n",
    "f.circle(x,y)\n",
    "\n",
    "show(f)"
   ]
  },
  {
   "cell_type": "code",
   "execution_count": 4,
   "id": "compact-strength",
   "metadata": {},
   "outputs": [],
   "source": [
    "from bokeh.plotting import figure\n",
    "from bokeh.io import output_file, show\n",
    "import pandas \n",
    "\n",
    "\n",
    "\n",
    "\n",
    "df = pandas.read_excel(\"verlegenhuken.xls\", engine='openpyxl')\n",
    "x = df[\"Pressure\"]/10\n",
    "y = df[\"Temperature\"]/10\n",
    "\n",
    "output_file(\"behivior_csv.html\")\n",
    "\n",
    "p=figure(plot_width=500,plot_height=400,tools='pan')\n",
    " \n",
    "p.title.text=\"Temperature and Air Pressure\"\n",
    "p.title.text_color=\"Gray\"\n",
    "p.title.text_font=\"arial\"\n",
    "p.title.text_font_style=\"bold\"\n",
    "p.xaxis.minor_tick_line_color=None\n",
    "p.yaxis.minor_tick_line_color=None\n",
    "p.xaxis.axis_label=\"Temperature (°C)\"\n",
    "p.yaxis.axis_label=\"Pressure (hPa)\"    \n",
    "\n",
    "f = figure()\n",
    "\n",
    "f.circle(x,y,size = 0.5)\n",
    "\n",
    "show(f)"
   ]
  },
  {
   "cell_type": "code",
   "execution_count": 10,
   "id": "instrumental-principal",
   "metadata": {},
   "outputs": [
    {
     "name": "stdout",
     "output_type": "stream",
     "text": [
      "Requirement already satisfied: openpyxl in d:\\bobi\\files\\python\\lib\\site-packages (3.0.6)\n",
      "Requirement already satisfied: et-xmlfile in d:\\bobi\\files\\python\\lib\\site-packages (from openpyxl) (1.0.1)\n",
      "Requirement already satisfied: jdcal in d:\\bobi\\files\\python\\lib\\site-packages (from openpyxl) (1.4.1)\n",
      "Note: you may need to restart the kernel to use updated packages.\n"
     ]
    }
   ],
   "source": [
    "pip install openpyxl"
   ]
  },
  {
   "cell_type": "code",
   "execution_count": 25,
   "id": "digital-student",
   "metadata": {},
   "outputs": [],
   "source": [
    "    from bokeh.plotting import figure, output_file, show\n",
    "    p = figure(plot_width=500, plot_height=400, tools = 'pan, reset')\n",
    "    p.title.text = \"Earthquakes\"\n",
    "    p.title.text_color = \"Orange\"\n",
    "    p.title.text_font = \"times\"\n",
    "    p.title.text_font_style = \"italic\"\n",
    "    p.yaxis.minor_tick_line_color = \"Yellow\"\n",
    "    p.xaxis.axis_label = \"Times\"\n",
    "    p.yaxis.axis_label = \"Value\"\n",
    "    p.line([1,2,3,4,5], [5,6,5,5,3], color=\"red\", alpha=0.5)\n",
    "    p.circle([i*2 for i in [1,2,3,4,5]], [5,6,5,5,3], size = [i*2 for i in [8,12,14,15,20]], color=\"red\", alpha=0.5)\n",
    "    output_file(\"Scatter_plotting.html\")\n",
    "    show(p)"
   ]
  },
  {
   "cell_type": "code",
   "execution_count": 22,
   "id": "reduced-profile",
   "metadata": {},
   "outputs": [],
   "source": [
    "from bokeh.plotting import figure, output_file, show\n",
    "import pandas\n",
    "\n",
    "df=pandas.read_csv(\"adbe.csv\", parse_dates=[\"Date\"])\n",
    "p = figure(width=1000,height=500, x_axis_type=\"datetime\")\n",
    "p.line(df[\"Date\"],df[\"Close\"], color = \"Orange\", alpha= 0.5)\n",
    "output_file(\"Timesregret.html\")\n",
    "show(p)"
   ]
  },
  {
   "cell_type": "code",
   "execution_count": null,
   "id": "necessary-sewing",
   "metadata": {},
   "outputs": [],
   "source": []
  },
  {
   "cell_type": "code",
   "execution_count": null,
   "id": "authorized-berlin",
   "metadata": {},
   "outputs": [],
   "source": []
  },
  {
   "cell_type": "code",
   "execution_count": null,
   "id": "returning-machine",
   "metadata": {},
   "outputs": [],
   "source": []
  }
 ],
 "metadata": {
  "kernelspec": {
   "display_name": "Python 3",
   "language": "python",
   "name": "python3"
  },
  "language_info": {
   "codemirror_mode": {
    "name": "ipython",
    "version": 3
   },
   "file_extension": ".py",
   "mimetype": "text/x-python",
   "name": "python",
   "nbconvert_exporter": "python",
   "pygments_lexer": "ipython3",
   "version": "3.9.0"
  }
 },
 "nbformat": 4,
 "nbformat_minor": 5
}
